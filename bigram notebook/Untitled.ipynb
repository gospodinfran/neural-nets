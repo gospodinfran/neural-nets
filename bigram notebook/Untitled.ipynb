{
 "cells": [
  {
   "cell_type": "code",
   "execution_count": 2,
   "id": "0f87aeac",
   "metadata": {},
   "outputs": [],
   "source": [
    "words = open('names.txt', 'r').read().splitlines()"
   ]
  },
  {
   "cell_type": "code",
   "execution_count": 3,
   "id": "9705dbea",
   "metadata": {},
   "outputs": [
    {
     "data": {
      "text/plain": [
       "['emma',\n",
       " 'olivia',\n",
       " 'ava',\n",
       " 'isabella',\n",
       " 'sophia',\n",
       " 'charlotte',\n",
       " 'mia',\n",
       " 'amelia',\n",
       " 'harper',\n",
       " 'evelyn']"
      ]
     },
     "execution_count": 3,
     "metadata": {},
     "output_type": "execute_result"
    }
   ],
   "source": [
    "words[:10]"
   ]
  },
  {
   "cell_type": "code",
   "execution_count": 4,
   "id": "88b00990",
   "metadata": {},
   "outputs": [
    {
     "data": {
      "text/plain": [
       "32033"
      ]
     },
     "execution_count": 4,
     "metadata": {},
     "output_type": "execute_result"
    }
   ],
   "source": [
    "len(words)"
   ]
  },
  {
   "cell_type": "code",
   "execution_count": 5,
   "id": "9fbffec6",
   "metadata": {},
   "outputs": [],
   "source": [
    "bigram_map = {}\n",
    "for w in words[:10]:\n",
    "    chs = ['.'] + list(w) + ['.']\n",
    "    for c1, c2 in zip(chs, chs[1:]):\n",
    "        bigram = (c1, c2)\n",
    "        bigram_map[bigram] = bigram_map.get(bigram, 0) + 1"
   ]
  },
  {
   "cell_type": "code",
   "execution_count": 6,
   "id": "2abbef02",
   "metadata": {},
   "outputs": [
    {
     "data": {
      "text/plain": [
       "51"
      ]
     },
     "execution_count": 6,
     "metadata": {},
     "output_type": "execute_result"
    }
   ],
   "source": [
    "len(bigram_map)"
   ]
  },
  {
   "cell_type": "code",
   "execution_count": 7,
   "id": "cbb87d0a",
   "metadata": {},
   "outputs": [
    {
     "name": "stdout",
     "output_type": "stream",
     "text": [
      "python3 is /usr/local/bin/python3\n"
     ]
    }
   ],
   "source": [
    "!type python3"
   ]
  },
  {
   "cell_type": "code",
   "execution_count": 8,
   "id": "c379bb51",
   "metadata": {},
   "outputs": [],
   "source": [
    "import torch"
   ]
  },
  {
   "cell_type": "code",
   "execution_count": 9,
   "id": "6ada686d",
   "metadata": {},
   "outputs": [],
   "source": [
    "stoi = {}\n",
    "itos = {}\n",
    "\n",
    "chars = sorted(set(''.join(words)))\n",
    "chars.append('.')"
   ]
  },
  {
   "cell_type": "code",
   "execution_count": 10,
   "id": "d0ff83df",
   "metadata": {},
   "outputs": [
    {
     "data": {
      "text/plain": [
       "27"
      ]
     },
     "execution_count": 10,
     "metadata": {},
     "output_type": "execute_result"
    }
   ],
   "source": [
    "len(chars)"
   ]
  },
  {
   "cell_type": "code",
   "execution_count": 11,
   "id": "ce2bdbc3",
   "metadata": {},
   "outputs": [],
   "source": [
    "for i, ch in enumerate(chars):\n",
    "    stoi[ch] = i\n",
    "    itos[i] = ch"
   ]
  },
  {
   "cell_type": "code",
   "execution_count": 39,
   "id": "c200c3df",
   "metadata": {},
   "outputs": [],
   "source": [
    "xs, ys = [], []\n",
    "\n",
    "for w in words:\n",
    "    chs = ['.'] + list(w) + ['.']\n",
    "    for c1, c2 in zip(chs, chs[1:]):\n",
    "        xs.append(stoi[c1])\n",
    "        ys.append(stoi[c2])\n",
    "    \n",
    "xs = torch.tensor(xs)\n",
    "ys = torch.tensor(ys)"
   ]
  },
  {
   "cell_type": "code",
   "execution_count": 25,
   "id": "8d9c59fe",
   "metadata": {},
   "outputs": [],
   "source": [
    "import torch.nn.functional as F"
   ]
  },
  {
   "cell_type": "code",
   "execution_count": 40,
   "id": "98686918",
   "metadata": {},
   "outputs": [],
   "source": [
    "g = torch.Generator()\n",
    "W = torch.randn((27, 27), generator=g, requires_grad=True)"
   ]
  },
  {
   "cell_type": "code",
   "execution_count": 44,
   "id": "9eab21ae",
   "metadata": {},
   "outputs": [
    {
     "name": "stdout",
     "output_type": "stream",
     "text": [
      "2.5671751499176025\n",
      "2.564054489135742\n",
      "2.5610849857330322\n",
      "2.5582563877105713\n",
      "2.555558204650879\n",
      "2.552981376647949\n",
      "2.550518751144409\n",
      "2.548161506652832\n",
      "2.5459039211273193\n",
      "2.5437393188476562\n",
      "2.5416622161865234\n",
      "2.539667844772339\n",
      "2.5377509593963623\n",
      "2.535907745361328\n",
      "2.5341341495513916\n",
      "2.5324254035949707\n",
      "2.5307793617248535\n",
      "2.5291926860809326\n",
      "2.5276613235473633\n",
      "2.526183843612671\n",
      "2.524756669998169\n",
      "2.5233781337738037\n",
      "2.522045135498047\n",
      "2.520756244659424\n",
      "2.5195090770721436\n",
      "2.5183019638061523\n",
      "2.5171329975128174\n",
      "2.516000747680664\n",
      "2.5149033069610596\n",
      "2.5138394832611084\n",
      "2.512807846069336\n",
      "2.5118072032928467\n",
      "2.510835647583008\n",
      "2.509892702102661\n",
      "2.508977174758911\n",
      "2.508087635040283\n",
      "2.507223606109619\n",
      "2.5063834190368652\n",
      "2.5055665969848633\n",
      "2.504772186279297\n",
      "2.5039994716644287\n",
      "2.5032472610473633\n",
      "2.5025153160095215\n",
      "2.501802682876587\n",
      "2.501108407974243\n",
      "2.500432252883911\n",
      "2.4997735023498535\n",
      "2.499131679534912\n",
      "2.498505115509033\n",
      "2.497894525527954\n",
      "2.4972991943359375\n",
      "2.496718168258667\n",
      "2.4961512088775635\n",
      "2.4955976009368896\n",
      "2.4950573444366455\n",
      "2.494530200958252\n",
      "2.4940147399902344\n",
      "2.493511199951172\n",
      "2.4930195808410645\n",
      "2.4925384521484375\n",
      "2.492068290710449\n",
      "2.4916086196899414\n",
      "2.491159439086914\n",
      "2.490719795227051\n",
      "2.4902896881103516\n",
      "2.489868640899658\n",
      "2.4894566535949707\n",
      "2.489053249359131\n",
      "2.4886586666107178\n",
      "2.488271713256836\n",
      "2.4878928661346436\n",
      "2.4875218868255615\n",
      "2.4871585369110107\n",
      "2.486801862716675\n",
      "2.48645281791687\n",
      "2.4861106872558594\n",
      "2.4857747554779053\n",
      "2.485445499420166\n",
      "2.4851226806640625\n",
      "2.4848060607910156\n",
      "2.484495162963867\n",
      "2.4841902256011963\n",
      "2.4838907718658447\n",
      "2.4835970401763916\n",
      "2.483309030532837\n",
      "2.483025312423706\n",
      "2.4827473163604736\n",
      "2.482473850250244\n",
      "2.482205629348755\n",
      "2.4819421768188477\n",
      "2.4816830158233643\n",
      "2.481428384780884\n",
      "2.4811782836914062\n",
      "2.4809319972991943\n",
      "2.4806902408599854\n",
      "2.480452299118042\n",
      "2.480217933654785\n",
      "2.4799880981445312\n",
      "2.479761838912964\n",
      "2.479539155960083\n"
     ]
    }
   ],
   "source": [
    "# gradient descent\n",
    "for k in range(100):\n",
    "\n",
    "    # forward pass\n",
    "    xenc = F.one_hot(xs, num_classes=27).float()\n",
    "    logits = xenc @ W\n",
    "    counts = logits.exp()\n",
    "    probs = counts / counts.sum(1, keepdims=True)\n",
    "    loss = -probs[torch.arange(xs.nelement()), ys].log().mean()\n",
    "    print(loss.item())\n",
    "\n",
    "    # backward pass\n",
    "    W.grad = None\n",
    "    loss.backward()\n",
    "\n",
    "    # update\n",
    "    W.data += -30 * W.grad"
   ]
  }
 ],
 "metadata": {
  "kernelspec": {
   "display_name": "Python 3.10.7 64-bit",
   "language": "python",
   "name": "python3"
  },
  "language_info": {
   "codemirror_mode": {
    "name": "ipython",
    "version": 3
   },
   "file_extension": ".py",
   "mimetype": "text/x-python",
   "name": "python",
   "nbconvert_exporter": "python",
   "pygments_lexer": "ipython3",
   "version": "3.10.7"
  },
  "vscode": {
   "interpreter": {
    "hash": "7e1998ff7f8aa20ada591c520b972326324e5ea05489af9e422744c7c09f6dad"
   }
  }
 },
 "nbformat": 4,
 "nbformat_minor": 5
}
