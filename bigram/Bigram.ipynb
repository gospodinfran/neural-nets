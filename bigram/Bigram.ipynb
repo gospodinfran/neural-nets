{
 "cells": [
  {
   "cell_type": "code",
   "execution_count": 36,
   "id": "0f87aeac",
   "metadata": {},
   "outputs": [],
   "source": [
    "words = open('names.txt', 'r').read().splitlines()"
   ]
  },
  {
   "cell_type": "code",
   "execution_count": 37,
   "id": "cbb87d0a",
   "metadata": {},
   "outputs": [
    {
     "name": "stdout",
     "output_type": "stream",
     "text": [
      "python3 is /usr/local/bin/python3\n"
     ]
    }
   ],
   "source": [
    "!type python3"
   ]
  },
  {
   "cell_type": "code",
   "execution_count": 38,
   "id": "c379bb51",
   "metadata": {},
   "outputs": [],
   "source": [
    "import torch"
   ]
  },
  {
   "cell_type": "code",
   "execution_count": 42,
   "id": "6ada686d",
   "metadata": {},
   "outputs": [],
   "source": [
    "chars = sorted(set(''.join(words)))\n",
    "\n",
    "stoi = { s:i + 1 for i, s in enumerate(chars) }\n",
    "stoi['.'] = 0\n",
    "itos = { i:s for s, i in stoi.items() }"
   ]
  },
  {
   "cell_type": "code",
   "execution_count": 43,
   "id": "835e5d66",
   "metadata": {},
   "outputs": [
    {
     "name": "stdout",
     "output_type": "stream",
     "text": [
      "dict_items([('a', 1), ('b', 2), ('c', 3), ('d', 4), ('e', 5), ('f', 6), ('g', 7), ('h', 8), ('i', 9), ('j', 10), ('k', 11), ('l', 12), ('m', 13), ('n', 14), ('o', 15), ('p', 16), ('q', 17), ('r', 18), ('s', 19), ('t', 20), ('u', 21), ('v', 22), ('w', 23), ('x', 24), ('y', 25), ('z', 26), ('.', 0)])\n"
     ]
    }
   ],
   "source": [
    "print(stoi.items())"
   ]
  },
  {
   "cell_type": "code",
   "execution_count": 44,
   "id": "c200c3df",
   "metadata": {},
   "outputs": [],
   "source": [
    "xs, ys = [], []\n",
    "\n",
    "for w in words:\n",
    "    chs = ['.'] + list(w) + ['.']\n",
    "    for c1, c2 in zip(chs, chs[1:]):\n",
    "        xs.append(stoi[c1])\n",
    "        ys.append(stoi[c2])\n",
    "    \n",
    "xs = torch.tensor(xs)\n",
    "ys = torch.tensor(ys)"
   ]
  },
  {
   "cell_type": "code",
   "execution_count": 45,
   "id": "8d9c59fe",
   "metadata": {},
   "outputs": [],
   "source": [
    "import torch.nn.functional as F"
   ]
  },
  {
   "cell_type": "code",
   "execution_count": 46,
   "id": "98686918",
   "metadata": {},
   "outputs": [],
   "source": [
    "g = torch.Generator().manual_seed(2147483647)\n",
    "W = torch.randn((27, 27), generator=g, requires_grad=True)"
   ]
  },
  {
   "cell_type": "code",
   "execution_count": 61,
   "id": "9eab21ae",
   "metadata": {},
   "outputs": [
    {
     "name": "stdout",
     "output_type": "stream",
     "text": [
      "2.526848316192627\n"
     ]
    }
   ],
   "source": [
    "# gradient descent\n",
    "for k in range(1000):\n",
    "\n",
    "    # forward pass\n",
    "    xenc = F.one_hot(xs, num_classes=27).float()\n",
    "    logits = xenc @ W\n",
    "    counts = logits.exp()\n",
    "    probs = counts / counts.sum(1, keepdims=True)\n",
    "    loss = -probs[torch.arange(xs.nelement()), ys].log().mean() + .01 * (W**2).mean()\n",
    "\n",
    "    # backward pass\n",
    "    W.grad = None\n",
    "    loss.backward()\n",
    "\n",
    "    # update\n",
    "    W.data += -.1 * W.grad\n",
    "print(loss.item())"
   ]
  },
  {
   "cell_type": "code",
   "execution_count": 63,
   "id": "69b8a3b6",
   "metadata": {},
   "outputs": [
    {
     "name": "stdout",
     "output_type": "stream",
     "text": [
      "avenrlaicen.\n",
      "ane.\n",
      "tkgisonincn.\n",
      "ddkarmiemeyn.\n",
      "kefeelleerorllliaerefhorinann.\n",
      "shriava.\n",
      "fryna.\n",
      "gqonnayindy.\n",
      "orgcda.\n",
      "ri.\n"
     ]
    }
   ],
   "source": [
    "# sampling\n",
    "for i in range(10):\n",
    "\n",
    "    output = []\n",
    "    index = 0\n",
    "    while True:\n",
    "        \n",
    "        xenc = F.one_hot(torch.tensor([index]), num_classes=27).float()\n",
    "        logits = xenc @ W\n",
    "        counts = logits.exp()\n",
    "        p = counts / counts.sum(1, keepdim=True)\n",
    "\n",
    "        index = torch.multinomial(p, num_samples=1, replacement=True, generator=g).item()\n",
    "        output.append(itos[index])\n",
    "        if index == 0:\n",
    "            break\n",
    "    print(''.join(output))\n"
   ]
  }
 ],
 "metadata": {
  "kernelspec": {
   "display_name": "Python 3.10.7 64-bit",
   "language": "python",
   "name": "python3"
  },
  "language_info": {
   "codemirror_mode": {
    "name": "ipython",
    "version": 3
   },
   "file_extension": ".py",
   "mimetype": "text/x-python",
   "name": "python",
   "nbconvert_exporter": "python",
   "pygments_lexer": "ipython3",
   "version": "3.10.7"
  },
  "vscode": {
   "interpreter": {
    "hash": "7e1998ff7f8aa20ada591c520b972326324e5ea05489af9e422744c7c09f6dad"
   }
  }
 },
 "nbformat": 4,
 "nbformat_minor": 5
}
